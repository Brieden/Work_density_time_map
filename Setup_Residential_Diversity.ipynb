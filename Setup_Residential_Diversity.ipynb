{
 "cells": [
  {
   "cell_type": "markdown",
   "metadata": {},
   "source": [
    "# Residential Diversity Map\n",
    "\n",
    "## 1. Define Styling\n",
    "Description\n",
    "\n",
    "Example: https://mkz.smartuse.ch/uploads/assets/views/SU-002-Wohnungsdiversitaet.html\n",
    "\n",
    "**Columns:**  \n",
    "        *Size*: BTOT from statpop  \n",
    "        *Color categories*: WT1, WT2, WT3, WT4, WT5, WT6 from gws"
   ]
  },
  {
   "cell_type": "markdown",
   "metadata": {},
   "source": [
    "## 2.Cookbook\n",
    "\n",
    "### **Spatialite Querying**  \n",
    "\n",
    "INPUT: requested data through spatial querying  \n",
    "CODE: *(see below)*  \n",
    "OUTPUT: <result\\>.csv  \n",
    "\n",
    "(Assumin we have `pop` table from Residential_Density_Map)\n",
    "\n",
    "```sqlite\n",
    "SELECT load_extension('mod_spatialite');\n",
    "\n",
    "-- QUERY BTOT FROM STATPOP\n",
    "-- QUERY WT{1,2,3,4,5,6} FROM GWS\n",
    "-- JOIN TABLES ON RELI\n",
    "-- SPATIAL QUERY FOR SOME AREA\n",
    ".header on\n",
    ".mode csv\n",
    ".once result.csv\n",
    "SELECT A.BTOT, A.RELI, A.E_KOORD, A.N_KOORD, AsText(ST_Transform(A.geometryLV95, 4326)) AS wkt, \n",
    "B.WT1, B.WT2, B.WT3, B.WT4, B.WT5, B.WT6 from pop2 as A \n",
    "INNER JOIN gws as B \n",
    "ON A.RELI = B.RELI   \n",
    "WHERE Within(A.geometryLV95,Buffer(GeomFromText('Point(2683268 1248001)'), 5000))\n",
    "```\n",
    "\n",
    "```python\n",
    ">>> import pandas as pd\n",
    ">>> df = pd.read_csv('result.csv')\n",
    "df.dropna(inplace=True)\n",
    ">>> df.to_csv('clear_result.csv', index=False)\n",
    "```"
   ]
  },
  {
   "cell_type": "markdown",
   "metadata": {},
   "source": [
    "### **Datapackage pipelines**\n",
    "\n",
    "INPUT: 'clear_result.csv (from Spatialite Querying) + data_to_feed.yaml  \n",
    "CODE: *(see below)*   \n",
    "OUTPUT: datapackage.json, modified_result.csv  \n",
    "  \n",
    "CODE:"
   ]
  },
  {
   "cell_type": "markdown",
   "metadata": {},
   "source": [
    "### **Exporter**\n",
    "\n",
    "INPUT: datapackage.json, modified_result.csv  \n",
    "CODE: *(see below)*   \n",
    "OUTPUT: final_datapackage.json    \n",
    "\n",
    "CODE:\n",
    "```python\n",
    "import yaml\n",
    "import json\n",
    "import geopandas as gpd\n",
    "\n",
    "gdf = gpd.read_file('output/residential/residential.csv')\n",
    "gdf.to_file(\"output/residential/preview.geojson\", driver='GeoJSON')\n",
    "\n",
    "with open(\"output/residential/datapackage.json\", 'r') as j, \\\n",
    "     open(\"output/residential/preview.geojson\", 'r') as l, \\\n",
    "     open(\"output/residential/final.json\", 'w') as r:\n",
    "    data = json.load(j)\n",
    "    feed = json.load(l)\n",
    "    data[\"resources\"] = [{\"name\": \"data-layer\", \"mediatype\": \"application/vnd.simplestyle-extended\", \"data\": {\"name\": \"data\", \"type\": \"FeatureCollection\", \"features\": []}},{\"name\": \"mapbox-background\", \"path\": \"mapbox://styles/gemeindescan/ck6rp249516tg1iqkmt48o4pz\", \"mediatype\": \"application/vnd.mapbox-vector-tile\", \"data\":\"\" }]\n",
    "    data['resources'][0]['data']['features'] = feed['features']\n",
    "    json.dump(data, r)\n",
    "```"
   ]
  },
  {
   "cell_type": "code",
   "execution_count": null,
   "metadata": {},
   "outputs": [],
   "source": []
  }
 ],
 "metadata": {
  "kernelspec": {
   "display_name": "Python 3",
   "language": "python",
   "name": "python3"
  },
  "language_info": {
   "codemirror_mode": {
    "name": "ipython",
    "version": 3
   },
   "file_extension": ".py",
   "mimetype": "text/x-python",
   "name": "python",
   "nbconvert_exporter": "python",
   "pygments_lexer": "ipython3",
   "version": "3.8.3"
  }
 },
 "nbformat": 4,
 "nbformat_minor": 4
}
